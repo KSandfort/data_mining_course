{
 "cells": [
  {
   "cell_type": "markdown",
   "source": [
    "# Data Mining (KEN4113) #\n",
    "## Lab 1: Regression ##\n",
    "\n",
    "Konstantin Sandfort\n",
    "i6255681"
   ],
   "metadata": {
    "collapsed": false
   }
  },
  {
   "cell_type": "code",
   "execution_count": 1,
   "outputs": [],
   "source": [
    "# Imports\n",
    "import numpy as np"
   ],
   "metadata": {
    "collapsed": false
   }
  },
  {
   "cell_type": "markdown",
   "source": [
    "## 1. Linear Regression Model Analysis ##"
   ],
   "metadata": {
    "collapsed": false
   }
  },
  {
   "cell_type": "markdown",
   "source": [
    "### 1.1 Gender Bias Analysis"
   ],
   "metadata": {
    "collapsed": false
   }
  },
  {
   "cell_type": "code",
   "execution_count": null,
   "outputs": [],
   "source": [
    "b_0 = 50\n",
    "b_1 = 20\n",
    "b_2 = 0.07\n",
    "b_3 = 10\n",
    "b_4 = 0.01\n",
    "b_5 = -3\n",
    "\n",
    "b = [b_0, b_1, b_2, b_3, b_4, b_5]\n",
    "\n",
    "# Example of male and female person after graduation\n",
    "\n",
    "male_01 = [2, 100, 1]  # GPA, IQ, Gender Code\n",
    "female_01 = [2, 100, 0]\n",
    "\n",
    "def calc_salary(person, coeff):\n",
    "    salary = coeff[0] + (person[0] * coeff[1]) + (person[1] * coeff[2]) + (person[2] * coeff[3])\n",
    "    return salary"
   ],
   "metadata": {
    "collapsed": false
   }
  }
 ],
 "metadata": {
  "kernelspec": {
   "display_name": "Python 3",
   "language": "python",
   "name": "python3"
  },
  "language_info": {
   "codemirror_mode": {
    "name": "ipython",
    "version": 2
   },
   "file_extension": ".py",
   "mimetype": "text/x-python",
   "name": "python",
   "nbconvert_exporter": "python",
   "pygments_lexer": "ipython2",
   "version": "2.7.6"
  }
 },
 "nbformat": 4,
 "nbformat_minor": 0
}
