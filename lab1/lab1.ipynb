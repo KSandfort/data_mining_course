{
 "cells": [
  {
   "cell_type": "markdown",
   "source": [
    "# Data Mining (KEN4113) #\n",
    "## Lab 1: Regression ##\n",
    "\n",
    "Konstantin Sandfort\n",
    "i6255681"
   ],
   "metadata": {
    "collapsed": false
   }
  },
  {
   "cell_type": "code",
   "execution_count": 1,
   "outputs": [],
   "source": [
    "# Imports\n",
    "import numpy as np"
   ],
   "metadata": {
    "collapsed": false
   }
  },
  {
   "cell_type": "markdown",
   "source": [
    "## 1. Linear Regression Model Analysis ##"
   ],
   "metadata": {
    "collapsed": false
   }
  },
  {
   "cell_type": "markdown",
   "source": [
    "### 1.1 Gender Bias Analysis"
   ],
   "metadata": {
    "collapsed": false
   }
  },
  {
   "cell_type": "code",
   "execution_count": 31,
   "outputs": [
    {
     "name": "stdout",
     "output_type": "stream",
     "text": [
      "[[  2.53118903  94.76420479   1.        ]\n",
      " [  1.1967939   85.35111632   1.        ]\n",
      " [  1.61752134 110.31140771   1.        ]\n",
      " [  1.64573726  87.24359      1.        ]\n",
      " [  1.27668199 114.13697575   1.        ]\n",
      " [  1.38834924 117.91286365   1.        ]\n",
      " [  2.18546248 105.74324101   1.        ]\n",
      " [  1.6740092  117.48800503   1.        ]\n",
      " [  2.38491823 105.75956519   1.        ]\n",
      " [  0.82565468 107.20196791   1.        ]]\n",
      "(10, 3)\n"
     ]
    }
   ],
   "source": [
    "b_0 = 50\n",
    "b_1 = 20\n",
    "b_2 = 0.07\n",
    "b_3 = 10\n",
    "b_4 = 0.01\n",
    "b_5 = -3\n",
    "\n",
    "b = [b_0, b_1, b_2, b_3, b_4, b_5]\n",
    "\n",
    "# Example of male and female person after graduation\n",
    "\n",
    "male_01 = [2, 100, 1]  # GPA, IQ, Gender Code\n",
    "female_01 = [2, 100, 0]\n",
    "\n",
    "def calc_salary(person, coeff):\n",
    "    salary = coeff[0] + (person[0] * coeff[1]) + (person[1] * coeff[2]) + (person[2] * coeff[3])\n",
    "    return salary\n",
    "\n",
    "# Generate 1000 male and female individuals with random GPA and IQ\n",
    "# We don't know anything about the distribution, so we assume a normal distribution\n",
    "n = 10\n",
    "# First, random numbers from a uniform distribution are generated\n",
    "male_gpa = np.random.normal(2, 1, n)\n",
    "male_iq = np.random.normal(100, 15, n)\n",
    "\n",
    "female_gpa = np.random.normal(2, 1, n)\n",
    "female_iq = np.random.normal(100, 15, n)\n",
    "\n",
    "# Adjust values out of range\n",
    "def squish_to_bounds(x, lower, upper):\n",
    "    if x < lower:\n",
    "        return lower\n",
    "    elif x > upper:\n",
    "        return upper\n",
    "    else:\n",
    "        return x\n",
    "\n",
    "squish_vec = np.vectorize(squish_to_bounds)\n",
    "\n",
    "male_gpa_adjusted = squish_vec(male_gpa, 0, 4)\n",
    "male_iq_adjusted = squish_vec(male_iq, 70, 130)\n",
    "\n",
    "female_gpa_adjusted = squish_vec(female_gpa, 0, 4)\n",
    "female_iq_adjusted = squish_vec(female_iq, 70, 130)\n",
    "\n",
    "males = np.transpose(np.vstack([male_gpa_adjusted, male_iq_adjusted, np.ones(n)]))\n",
    "females = np.transpose(np.vstack([female_gpa_adjusted, female_iq_adjusted, np.zeros(n)]))\n",
    "print(males)\n",
    "print(males.shape)"
   ],
   "metadata": {
    "collapsed": false
   }
  },
  {
   "cell_type": "code",
   "execution_count": null,
   "outputs": [],
   "source": [],
   "metadata": {
    "collapsed": false
   }
  }
 ],
 "metadata": {
  "kernelspec": {
   "display_name": "Python 3",
   "language": "python",
   "name": "python3"
  },
  "language_info": {
   "codemirror_mode": {
    "name": "ipython",
    "version": 2
   },
   "file_extension": ".py",
   "mimetype": "text/x-python",
   "name": "python",
   "nbconvert_exporter": "python",
   "pygments_lexer": "ipython2",
   "version": "2.7.6"
  }
 },
 "nbformat": 4,
 "nbformat_minor": 0
}
