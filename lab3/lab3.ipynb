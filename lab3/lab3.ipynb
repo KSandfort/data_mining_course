{
 "cells": [
  {
   "cell_type": "markdown",
   "source": [
    "# Data Mining (KEN4113) #\n",
    "## Lab 3: Classification ##\n",
    "\n",
    "Konstantin Sandfort\n",
    "i6255681"
   ],
   "metadata": {
    "collapsed": false
   },
   "id": "68481b3fb964c198"
  },
  {
   "cell_type": "code",
   "execution_count": null,
   "outputs": [],
   "source": [],
   "metadata": {
    "collapsed": false
   },
   "id": "5f76542618a87ea8"
  }
 ],
 "metadata": {
  "kernelspec": {
   "display_name": "Python 3",
   "language": "python",
   "name": "python3"
  },
  "language_info": {
   "codemirror_mode": {
    "name": "ipython",
    "version": 2
   },
   "file_extension": ".py",
   "mimetype": "text/x-python",
   "name": "python",
   "nbconvert_exporter": "python",
   "pygments_lexer": "ipython2",
   "version": "2.7.6"
  }
 },
 "nbformat": 4,
 "nbformat_minor": 5
}
