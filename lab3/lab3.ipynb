{
 "cells": [
  {
   "cell_type": "markdown",
   "source": [
    "# Data Mining (KEN4113) #\n",
    "## Lab 3: Classification ##\n",
    "\n",
    "Konstantin Sandfort\n",
    "i6255681"
   ],
   "metadata": {
    "collapsed": false
   },
   "id": "68481b3fb964c198"
  },
  {
   "cell_type": "code",
   "execution_count": 1,
   "outputs": [],
   "source": [
    "# Imports\n",
    "import numpy as np\n",
    "import pandas as pd\n",
    "import matplotlib.pyplot as plt"
   ],
   "metadata": {
    "collapsed": false,
    "ExecuteTime": {
     "end_time": "2023-10-05T11:56:17.383393029Z",
     "start_time": "2023-10-05T11:56:16.868981785Z"
    }
   },
   "id": "5f76542618a87ea8"
  },
  {
   "cell_type": "markdown",
   "source": [
    "## Step 1: EDA\n",
    "The EDA will provide better insights of the data and give us a better idea of the variables that can be used for classification."
   ],
   "metadata": {
    "collapsed": false
   },
   "id": "12c9058b9af00aac"
  },
  {
   "cell_type": "code",
   "execution_count": 2,
   "outputs": [],
   "source": [
    "# Import data\n",
    "data_train = pd.read_csv('caravan.csv')\n",
    "data_test = pd.read_csv('caravanTest.csv')"
   ],
   "metadata": {
    "collapsed": false,
    "ExecuteTime": {
     "end_time": "2023-10-05T12:10:14.149533300Z",
     "start_time": "2023-10-05T12:10:14.091863597Z"
    }
   },
   "id": "c0deef8a5c41c10b"
  },
  {
   "cell_type": "code",
   "execution_count": 3,
   "outputs": [
    {
     "name": "stdout",
     "output_type": "stream",
     "text": [
      "Index(['Customer Subtype', 'Number of houses', 'Avg size household', 'Avg Age',\n",
      "       'Customer main type', 'Roman catholic', 'Protestant', 'Other religion',\n",
      "       'No religion', 'Married', 'Living together', 'Other relation',\n",
      "       'Singles', 'Household without children', 'Household with children',\n",
      "       'High level education', 'Medium level education',\n",
      "       'Lower level education', 'High status', 'Entrepreneur', 'Farmer',\n",
      "       'Middle Management', 'Skilled labourers', 'Unskilled labourers',\n",
      "       'Social class A', 'Social class B1', 'Social class B2',\n",
      "       'Social class C', 'Social class D', 'Rented house', 'Home owners',\n",
      "       '1 car', '2 cars', 'No car', 'National Health Service',\n",
      "       'Private health insurance', 'Income < 30.000', 'Income 30-45.000',\n",
      "       'Income 45-75.000', 'Income 75-122.000', 'Income >123.000',\n",
      "       'Average income', 'Purchasing power class',\n",
      "       'Contribution private third party insurance',\n",
      "       'Contribution third party insurance (firms)',\n",
      "       'Contribution third party insurance (agriculture)',\n",
      "       'Contribution car policies', 'Contribution delivery van policies',\n",
      "       'Contribution motorcycle/scooter policies',\n",
      "       'Contribution lorry policies', 'Contribution trailer policies',\n",
      "       'Contribution tractor policies',\n",
      "       'Contribution agricultural machines policies',\n",
      "       'Contribution moped policies', 'Contribution life insurances',\n",
      "       'Contribution private accident insurance policies',\n",
      "       'Contribution family accidents insurance policies',\n",
      "       'Contribution disability insurance policies',\n",
      "       'Contribution fire policies', 'Contribution surfboard policies',\n",
      "       'Contribution boat policies', 'Contribution bicycle policies',\n",
      "       'Contribution property insurance policies',\n",
      "       'Contribution social security insurance policies',\n",
      "       'Number of private third party insurance',\n",
      "       'Number of third party insurance (firms)',\n",
      "       'Number of third party insurance (agriculture)',\n",
      "       'Number of car policies', 'Number of delivery van policies',\n",
      "       'Number of motorcycle/scooter policies', 'Number of lorry policies',\n",
      "       'Number of trailer policies', 'Number of tractor policies',\n",
      "       'Number of agricultural machines policies', 'Number of moped policies',\n",
      "       'Number of life insurances',\n",
      "       'Number of private accident insurance policies',\n",
      "       'Number of family accidents insurance policies',\n",
      "       'Number of disability insurance policies', 'Number of re policies',\n",
      "       'Number of surfboard policies', 'Number of boat policies',\n",
      "       'Number of bicycle policies', 'Number of property insurance policies',\n",
      "       'Number of social security insurance policies', 'CARAVAN POLICY'],\n",
      "      dtype='object')\n"
     ]
    }
   ],
   "source": [
    "print(data_train.columns)"
   ],
   "metadata": {
    "collapsed": false,
    "ExecuteTime": {
     "end_time": "2023-10-05T12:10:33.273542948Z",
     "start_time": "2023-10-05T12:10:33.248601123Z"
    }
   },
   "id": "10f623e05c5030e8"
  },
  {
   "cell_type": "code",
   "execution_count": null,
   "outputs": [],
   "source": [],
   "metadata": {
    "collapsed": false
   },
   "id": "c98f60afe8b1a514"
  }
 ],
 "metadata": {
  "kernelspec": {
   "display_name": "Python 3",
   "language": "python",
   "name": "python3"
  },
  "language_info": {
   "codemirror_mode": {
    "name": "ipython",
    "version": 2
   },
   "file_extension": ".py",
   "mimetype": "text/x-python",
   "name": "python",
   "nbconvert_exporter": "python",
   "pygments_lexer": "ipython2",
   "version": "2.7.6"
  }
 },
 "nbformat": 4,
 "nbformat_minor": 5
}
